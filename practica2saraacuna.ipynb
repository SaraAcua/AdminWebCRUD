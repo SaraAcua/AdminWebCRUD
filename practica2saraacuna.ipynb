{
  "nbformat": 4,
  "nbformat_minor": 0,
  "metadata": {
    "colab": {
      "provenance": [],
      "authorship_tag": "ABX9TyMi0zc40Z4zXmuM2p8RH3KU",
      "include_colab_link": true
    },
    "kernelspec": {
      "name": "python3",
      "display_name": "Python 3"
    },
    "language_info": {
      "name": "python"
    }
  },
  "cells": [
    {
      "cell_type": "markdown",
      "metadata": {
        "id": "view-in-github",
        "colab_type": "text"
      },
      "source": [
        "<a href=\"https://colab.research.google.com/github/SaraAcua/AdminWebCRUD/blob/master/practica2saraacuna.ipynb\" target=\"_parent\"><img src=\"https://colab.research.google.com/assets/colab-badge.svg\" alt=\"Open In Colab\"/></a>"
      ]
    },
    {
      "cell_type": "code",
      "execution_count": null,
      "metadata": {
        "id": "UlI1cMmQ3vf_"
      },
      "outputs": [],
      "source": []
    },
    {
      "cell_type": "markdown",
      "source": [
        "**Ejercicio 3** Evaluar, si es posible, las siguientes expresiones lógicas. En los casos que no sea posible, explicar el motivo. Responder considerando que las variables indicadas tienen los siguientes valores: a = 5, b = 8, c = 1.5, d= True , e = ’10’. a) a < 8 b) a < b c) a <= b d) (a-b) < c e) c < e f) not(d) g) e > ‘4’"
      ],
      "metadata": {
        "id": "gpCdKeMN3wQh"
      }
    },
    {
      "cell_type": "code",
      "source": [
        "#Sara Acuña\n",
        "#Declare variables\n",
        "\n",
        "#integer assignment\n",
        "a=5\n",
        "b=8\n",
        "#Float assignment\n",
        "c=1.5\n",
        "#Boolean assignment\n",
        "d=True\n",
        "#Assigning character string\n",
        "e=\"10\"\n",
        "#Evaluation of variables an explanatcion\n",
        "#a) a < 8, b) a < b, c) a <= b , d) (a-b) < c ,e) c < e, f) not(d), g) e > ‘4’\n",
        "print(\"a) Is True, example : 5 < 8\")\n",
        "print(\"b) Is True, example : 5 < 8\")\n",
        "print(\"c) Is True, example : 5 <= 8\")\n",
        "print('d) Is True, example : (5-8) < 1.5 .... -3 < 1.5')\n",
        "print(\"e) Is False, example : 1.5 < '10' c es un número y e una cadena de texto ('10') No es posible comparar\")\n",
        "print(\"f) Is posible, example : not(d) da como resultado False, ya que d es true\")\n",
        "print(\"g) Is True, example : '10'>'4' da como resultado true\")\n"
      ],
      "metadata": {
        "id": "L5TSAfpw3x71"
      },
      "execution_count": null,
      "outputs": []
    },
    {
      "cell_type": "markdown",
      "source": [
        "**Ejercicio 4** Considerar las siguientes variables con sus respectivos valores: precio = 3000 # expresado en pesos, descuento = 10 # expresado en porcentaje, interés = 15 # expresado en porcentaje. 1) Indicar las operaciones necesarias para calcular el precio nal con descuento y el precio nal con interés. Utilizar los nombres de variables precioConDescuento y precioConInteres. 2) En base a los resultados anteriores, determinar el resultado de las siguientes operaciones: a) precioConDescuento < 2800 b) precioConInteres >= 3450 c) (precioConDescuento < 2900) and (precioConDescuento >2500)"
      ],
      "metadata": {
        "id": "xGDfVp4w33O4"
      }
    },
    {
      "cell_type": "code",
      "source": [
        "#Declare variables\n",
        "precio = 3000 # expresado en pesos,\n",
        "descuento = 10 # expresado en porcentaje,\n",
        "interes = 15 # expresado en porcentaje.\n",
        "limiteInferior= 2500\n",
        "limiteSuperior=2900\n",
        "\n",
        "precioConDescuento = precio - (precio * descuento / 100)\n",
        "precioConInteres = precio + (precio * interes / 100)\n",
        "\n",
        "\n",
        "print(\"Precio con descuento: \", precioConDescuento)\n",
        "print(\"Precio con interés: \", precioConInteres)\n",
        "\n",
        "if limiteInferior <= precioConDescuento <= limiteSuperior:\n",
        "    print(f\"El número {precioConDescuento} está dentro del rango de {limiteInferior} a {limiteSuperior}.\")\n",
        "else:\n",
        "    print(f\"El número {precioConDescuento} no está dentro del rango de {limiteInferior} a {limiteSuperior}.\")\n"
      ],
      "metadata": {
        "colab": {
          "base_uri": "https://localhost:8080/"
        },
        "id": "Rs5hI-Ub37Gg",
        "outputId": "4fcba2e9-603d-4b02-88ec-6b93f2dd9217"
      },
      "execution_count": null,
      "outputs": [
        {
          "output_type": "stream",
          "name": "stdout",
          "text": [
            "Precio con descuento:  2700.0\n",
            "Precio con interés:  3450.0\n",
            "El número 2700.0 está dentro del rango de 2500 a 2900.\n"
          ]
        }
      ]
    },
    {
      "cell_type": "markdown",
      "source": [
        "**Ejercicio 6** El operador de módulo (%) permite obtener el resto de la división entera, y es útil en muchas aplicaciones. En cada uno de los siguientes incisos, indicar cómo puede emplearse para resolver el problema planteado: a) Determinar si un número es par. b) Determinar si un valor ingresado por el usuario es múltiplo de 4. c) Determinar si un valor ingresado por el usuario es múltiplo de 3 ó divisor de 36. d) Determinar si un valor ingresado por el usuario es múltiplo de 3 y divisor de 36."
      ],
      "metadata": {
        "id": "x0uEGjao3-Ts"
      }
    },
    {
      "cell_type": "code",
      "source": [
        "# a) Determinar si un número es par\n",
        "print('----Determinar si un número es par----')\n",
        "while True:\n",
        "    numero = int(input(\"Ingrese un número: \"))\n",
        "    if numero % 2 == 0:\n",
        "     print(\"El número es par\")\n",
        "    else:\n",
        "        print(\"El número es impar\")\n",
        "    continuar = input(\"¿Quieres intentar con otro número? (s/n): \").lower()\n",
        "    if continuar != 's':\n",
        "        break\n",
        "\n",
        "# b) Determinar si un valor ingresado por el usuario es múltiplo de 4\n",
        "print('--Determinar si un valor ingresado por el usuario es múltiplo de 4--')\n",
        "while True:\n",
        "    numero = int(input(\"Ingresa un número: \"))\n",
        "\n",
        "# Step 2: Check if the number is a multiple of 4\n",
        "    if numero % 4 == 0:\n",
        "     print(f\"El número {numero} es múltiplo de 4.\")\n",
        "    else:\n",
        "     print(f\"El número {numero} no es múltiplo de 4.\")\n",
        "    continuar = input(\"¿Quieres intentar con otro número? (s/n): \").lower()\n",
        "    if continuar != 's':\n",
        "        break\n",
        "# c) Determinar si un valor ingresado por el usuario es múltiplo de 3 ó divisor de 36.\n",
        "print('Determinar si un valor ingresado por el usuario es múltiplo de 3 ó divisor de 36')\n",
        "while True:\n",
        "    numero = int(input(\"Ingresa un número: \"))\n",
        "    if numero % 3 == 0 or 36 % numero == 0 :\n",
        "       print(f\"El número {numero} es múltiplo de 3 o divisor de 36.\")\n",
        "    else:\n",
        "     print(f\"El número {numero} no es múltiplo de 3 ni division de 36.\")\n",
        "    continuar = input(\"¿Quieres intentar con otro número? (s/n): \").lower()\n",
        "    if continuar != 's':\n",
        "        break\n",
        "\n",
        "# d) Determinar si un valor ingresado por el usuario es múltiplo de 3 y divisor de 36.\n",
        "print('Determinar si un valor ingresado por el usuario es múltiplo de 3 y divisor de 36')\n",
        "while True:\n",
        "    numero = int(input(\"Ingresa un número: \"))\n",
        "    if numero % 3 == 0 and 36 % numero == 0 :\n",
        "     print(f\"El número {numero} es múltiplo de 3 y divisor de 36.\")\n",
        "    else:\n",
        "        print(f\"El número {numero} no es múltiplo de 3 y division de 36.\")\n",
        "    continuar = input(\"¿Quieres intentar con otro número? (s/n): \").lower()\n",
        "    if continuar != 's':\n",
        "        break\n"
      ],
      "metadata": {
        "colab": {
          "base_uri": "https://localhost:8080/"
        },
        "id": "7abIzoQI4BZf",
        "outputId": "4769666a-59b2-4a71-e6c2-8fc80d222eb8"
      },
      "execution_count": null,
      "outputs": [
        {
          "name": "stdout",
          "output_type": "stream",
          "text": [
            "----Determinar si un número es par----\n",
            "Ingrese un número: 34\n",
            "El número es par\n",
            "¿Quieres intentar con otro número? (s/n): n\n",
            "--Determinar si un valor ingresado por el usuario es múltiplo de 4--\n",
            "Ingresa un número: 4\n",
            "El número 4 es múltiplo de 4.\n",
            "¿Quieres intentar con otro número? (s/n): n\n",
            "Determinar si un valor ingresado por el usuario es múltiplo de 3 ó divisor de 36\n",
            "Ingresa un número: 54\n",
            "El número 54 es múltiplo de 3 o divisor de 36.\n",
            "¿Quieres intentar con otro número? (s/n): n\n",
            "Determinar si un valor ingresado por el usuario es múltiplo de 3 y divisor de 36\n",
            "Ingresa un número: 54\n",
            "El número 54 no es múltiplo de 3 y division de 36.\n",
            "¿Quieres intentar con otro número? (s/n): n\n"
          ]
        }
      ]
    }
  ]
}