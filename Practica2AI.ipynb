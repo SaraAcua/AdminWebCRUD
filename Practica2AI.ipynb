{
  "nbformat": 4,
  "nbformat_minor": 0,
  "metadata": {
    "colab": {
      "provenance": [],
      "authorship_tag": "ABX9TyNzhLzx/YxZT6EdwnO3swZc",
      "include_colab_link": true
    },
    "kernelspec": {
      "name": "python3",
      "display_name": "Python 3"
    },
    "language_info": {
      "name": "python"
    }
  },
  "cells": [
    {
      "cell_type": "markdown",
      "metadata": {
        "id": "view-in-github",
        "colab_type": "text"
      },
      "source": [
        "<a href=\"https://colab.research.google.com/github/SaraAcua/AdminWebCRUD/blob/master/Practica2AI.ipynb\" target=\"_parent\"><img src=\"https://colab.research.google.com/assets/colab-badge.svg\" alt=\"Open In Colab\"/></a>"
      ]
    },
    {
      "cell_type": "code",
      "execution_count": null,
      "metadata": {
        "id": "Ymx5SidllX7W"
      },
      "outputs": [],
      "source": []
    },
    {
      "cell_type": "markdown",
      "source": [
        "**Ejercicio 3**\n",
        "Evaluar, si es posible, las siguientes expresiones lógicas. En los casos que no sea posible,\n",
        "explicar el motivo. Responder considerando que las variables indicadas tienen los\n",
        "siguientes valores: a = 5, b = 8, c = 1.5, d= True , e = ’10’.\n",
        "a) a < 8 b) a < b c) a <= b d) (a-b) < c e) c < e f) not(d) g) e > ‘4’\n"
      ],
      "metadata": {
        "id": "xVT9nnWkmUtS"
      }
    },
    {
      "cell_type": "code",
      "source": [
        "#Sara Acuña\n",
        "#Declare variables\n",
        "\n",
        "#integer assignment\n",
        "a=5\n",
        "b=8\n",
        "#Float assignment\n",
        "c=1.5\n",
        "#Boolean assignment\n",
        "d=True\n",
        "#Assigning character string\n",
        "e=\"10\"\n",
        "#Evaluation of variables an explanatcion\n",
        "#a) a < 8, b) a < b, c) a <= b , d) (a-b) < c ,e) c < e, f) not(d), g) e > ‘4’\n",
        "print(\"a) Is True, example : 5 < 8\")\n",
        "print(\"b) Is True, example : 5 < 8\")\n",
        "print(\"c) Is True, example : 5 <= 8\")\n",
        "print('d) Is True, example : (5-8) < 1.5 .... -3 < 1.5')\n",
        "print(\"e) Is False, example : 1.5 < '10' c es un número y e una cadena de texto ('10') No es posible comparar\")\n",
        "print(\"f) Is posible, example : not(d) da como resultado False, ya que d es true\")\n",
        "print(\"g) Is True, example : '10'>'4' da como resultado true\")\n"
      ],
      "metadata": {
        "colab": {
          "base_uri": "https://localhost:8080/"
        },
        "id": "dgfug3mHmWZK",
        "outputId": "9539be71-eeaa-4d5b-afee-5ea8984d4289"
      },
      "execution_count": 9,
      "outputs": [
        {
          "output_type": "stream",
          "name": "stdout",
          "text": [
            "a) Is True, example : 5 < 8\n",
            "b) Is True, example : 5 < 8\n",
            "c) Is True, example : 5 <= 8\n",
            "d) Is True, example : (5-8) < 1.5 .... -3 < 1.5\n",
            "e) Is False, example : 1.5 < '10' c es un número y e una cadena de texto ('10') No es posible comparar\n",
            "f) Is posible, example : not(d) da como resultado False, ya que d es true\n",
            "g) Is True, example : '10'>'4' da como resultado true\n"
          ]
        }
      ]
    },
    {
      "cell_type": "markdown",
      "source": [
        "**Ejercicio 4**\n",
        "Considerar las siguientes variables con sus respectivos valores:\n",
        "precio = 3000 # expresado en pesos,\n",
        "descuento = 10 # expresado en porcentaje,\n",
        "interés = 15 # expresado en porcentaje.\n",
        "1) Indicar las operaciones necesarias para calcular el precio nal con descuento y el precio\n",
        "nal con interés. Utilizar los nombres de variables precioConDescuento y precioConInteres.\n",
        "2) En base a los resultados anteriores, determinar el resultado de las siguientes\n",
        "operaciones:\n",
        "a) precioConDescuento < 2800 b) precioConInteres >= 3450\n",
        "c) (precioConDescuento < 2900) and (precioConDescuento >2500)\n"
      ],
      "metadata": {
        "id": "uH6sFOiisu-E"
      }
    },
    {
      "cell_type": "code",
      "source": [
        "#Declare variables\n",
        "precio = 3000 # expresado en pesos,\n",
        "descuento = 10 # expresado en porcentaje,\n",
        "interes = 15 # expresado en porcentaje.\n",
        "\n",
        "precioConDescuento = precio - (precio * descuento / 100)\n",
        "precioConInteres = precio + (precio * interes / 100)\n",
        "\n",
        "print(\"Precio con descuento: \", precioConDescuento)\n",
        "print(\"Precio con interés: \", precioConInteres)"
      ],
      "metadata": {
        "colab": {
          "base_uri": "https://localhost:8080/"
        },
        "id": "60eQwF2EsyE_",
        "outputId": "2506c9a5-c17f-47d8-ef80-41c3c76af5b7"
      },
      "execution_count": 12,
      "outputs": [
        {
          "output_type": "stream",
          "name": "stdout",
          "text": [
            "Precio con descuento:  2700.0\n",
            "Precio con interés:  3450.0\n"
          ]
        }
      ]
    },
    {
      "cell_type": "markdown",
      "source": [
        "**Ejercicio 6**\n",
        "El operador de módulo (%) permite obtener el resto de la división entera, y es útil en\n",
        "muchas aplicaciones. En cada uno de los siguientes incisos, indicar cómo puede emplearse\n",
        "para resolver el problema planteado:\n",
        "a) Determinar si un número es par.\n",
        "b) Determinar si un valor ingresado por el usuario es múltiplo de 4.\n",
        "c) Determinar si un valor ingresado por el usuario es múltiplo de 3 ó divisor de 36.\n",
        "d) Determinar si un valor ingresado por el usuario es múltiplo de 3 y divisor de 36."
      ],
      "metadata": {
        "id": "6hr0vdxgt9Rz"
      }
    },
    {
      "cell_type": "code",
      "source": [
        "# a) Determinar si un número es par\n",
        "print('----Determinar si un número es par----')\n",
        "while True:\n",
        "    numero = int(input(\"Ingrese un número: \"))\n",
        "    if numero % 2 == 0:\n",
        "     print(\"El número es par\")\n",
        "    else:\n",
        "        print(\"El número es impar\")\n",
        "    continuar = input(\"¿Quieres intentar con otro número? (s/n): \").lower()\n",
        "    if continuar != 's':\n",
        "        break\n",
        "\n",
        "# b) Determinar si un valor ingresado por el usuario es múltiplo de 4\n",
        "print('--Determinar si un valor ingresado por el usuario es múltiplo de 4--')\n",
        "while True:\n",
        "    numero = int(input(\"Ingresa un número: \"))\n",
        "\n",
        "# Step 2: Check if the number is a multiple of 4\n",
        "    if numero % 4 == 0:\n",
        "     print(f\"El número {numero} es múltiplo de 4.\")\n",
        "    else:\n",
        "     print(f\"El número {numero} no es múltiplo de 4.\")\n",
        "    continuar = input(\"¿Quieres intentar con otro número? (s/n): \").lower()\n",
        "    if continuar != 's':\n",
        "        break\n",
        "# c) Determinar si un valor ingresado por el usuario es múltiplo de 3 ó divisor de 36.\n",
        "print('Determinar si un valor ingresado por el usuario es múltiplo de 3 ó divisor de 36')\n",
        "while True:\n",
        "    numero = int(input(\"Ingresa un número: \"))\n",
        "    if numero % 3 == 0 or 36 % numero == 0 :\n",
        "       print(f\"El número {numero} es múltiplo de 3 o divisor de 36.\")\n",
        "    else:\n",
        "     print(f\"El número {numero} no es múltiplo de 3 ni division de 36.\")\n",
        "    continuar = input(\"¿Quieres intentar con otro número? (s/n): \").lower()\n",
        "    if continuar != 's':\n",
        "        break\n",
        "\n",
        "# d) Determinar si un valor ingresado por el usuario es múltiplo de 3 y divisor de 36.\n",
        "print('Determinar si un valor ingresado por el usuario es múltiplo de 3 y divisor de 36')\n",
        "while True:\n",
        "    numero = int(input(\"Ingresa un número: \"))\n",
        "    if numero % 3 == 0 and 36 % numero == 0 :\n",
        "     print(f\"El número {numero} es múltiplo de 3 y divisor de 36.\")\n",
        "    else:\n",
        "        print(f\"El número {numero} no es múltiplo de 3 y division de 36.\")\n",
        "    continuar = input(\"¿Quieres intentar con otro número? (s/n): \").lower()\n",
        "    if continuar != 's':\n",
        "        break\n",
        ""
      ],
      "metadata": {
        "colab": {
          "base_uri": "https://localhost:8080/"
        },
        "id": "kGjcuY0AuBKt",
        "outputId": "53654e0b-8dd6-4520-b763-c98a313e12eb"
      },
      "execution_count": null,
      "outputs": [
        {
          "output_type": "stream",
          "name": "stdout",
          "text": [
            "----Determinar si un número es par----\n",
            "Ingrese un número: 90\n",
            "El número es par\n",
            "¿Quieres intentar con otro número? (s/n): n\n",
            "--Determinar si un valor ingresado por el usuario es múltiplo de 4--\n",
            "Ingresa un número: 90\n",
            "El número 90 no es múltiplo de 4.\n",
            "¿Quieres intentar con otro número? (s/n): n\n",
            "Determinar si un valor ingresado por el usuario es múltiplo de 3 ó divisor de 36\n",
            "Ingresa un número: 90\n",
            "El número 90 es múltiplo de 3 o divisor de 36.\n",
            "¿Quieres intentar con otro número? (s/n): 90\n",
            "Determinar si un valor ingresado por el usuario es múltiplo de 3 y divisor de 36\n",
            "Ingresa un número: 90\n",
            "El número 90 no es múltiplo de 3 y division de 36.\n"
          ]
        }
      ]
    }
  ]
}